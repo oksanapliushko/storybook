{
 "cells": [
  {
   "cell_type": "markdown",
   "metadata": {},
   "source": [
    "### Import and Setup"
   ]
  },
  {
   "cell_type": "code",
   "execution_count": 18,
   "metadata": {},
   "outputs": [],
   "source": [
    "### Import libraries ###\n",
    "import os\n",
    "import tempfile\n",
    "import PIL\n",
    "from PIL import Image\n",
    "import numpy as np\n",
    "import streamlit as st\n",
    "import streamlit.components.v1 as components\n",
    "import utils\n",
    "from streamlit_tags import st_tags, st_tags_sidebar\n",
    "\n",
    "from llama_index.legacy.prompts import PromptTemplate\n",
    "from llama_index.legacy.multi_modal_llms.gemini import GeminiMultiModal\n",
    "from llama_index.legacy.schema import ImageDocument\n",
    "from llama_index.legacy.multi_modal_llms.generic_utils import (\n",
    "    load_image_urls,\n",
    ")\n"
   ]
  },
  {
   "cell_type": "code",
   "execution_count": 17,
   "metadata": {},
   "outputs": [],
   "source": [
    "#from utils.all_texts import * "
   ]
  },
  {
   "cell_type": "code",
   "execution_count": 19,
   "metadata": {},
   "outputs": [
    {
     "name": "stdout",
     "output_type": "stream",
     "text": [
      "Successfully imported all_texts\n",
      "Contents of texts: dict_keys(['about', 'prompt_story'])\n"
     ]
    }
   ],
   "source": [
    "import sys\n",
    "import importlib.util\n",
    "\n",
    "file_path = '/Users/oksanapliushko/Desktop/PLI18542171_Thesis/ImaGenStories-main/utils/all_texts.py'\n",
    "\n",
    "try:\n",
    "    spec = importlib.util.spec_from_file_location(\"all_texts\", file_path)\n",
    "    all_texts = importlib.util.module_from_spec(spec)\n",
    "    spec.loader.exec_module(all_texts)\n",
    "    \n",
    "    print(\"Successfully imported all_texts\")\n",
    "    print(\"Contents of texts:\", all_texts.texts.keys())\n",
    "except Exception as e:\n",
    "    print(f\"Error importing all_texts: {e}\")"
   ]
  },
  {
   "cell_type": "markdown",
   "metadata": {},
   "source": [
    "### Streamlit Configuration "
   ]
  },
  {
   "cell_type": "code",
   "execution_count": 20,
   "metadata": {},
   "outputs": [
    {
     "name": "stderr",
     "output_type": "stream",
     "text": [
      "2024-09-17 12:54:44.864 Thread 'MainThread': missing ScriptRunContext! This warning can be ignored when running in bare mode.\n",
      "2024-09-17 12:54:44.865 Thread 'MainThread': missing ScriptRunContext! This warning can be ignored when running in bare mode.\n",
      "2024-09-17 12:54:44.866 Thread 'MainThread': missing ScriptRunContext! This warning can be ignored when running in bare mode.\n",
      "2024-09-17 12:54:44.867 Thread 'MainThread': missing ScriptRunContext! This warning can be ignored when running in bare mode.\n",
      "2024-09-17 12:54:44.867 Thread 'MainThread': missing ScriptRunContext! This warning can be ignored when running in bare mode.\n"
     ]
    },
    {
     "data": {
      "text/plain": [
       "DeltaGenerator()"
      ]
     },
     "execution_count": 20,
     "metadata": {},
     "output_type": "execute_result"
    }
   ],
   "source": [
    "### Set config ###\n",
    "st.set_page_config(\n",
    "    page_title=\"ImaGenStories\",\n",
    "    page_icon=\"📝\",\n",
    "    layout=\"wide\",\n",
    "    initial_sidebar_state=\"auto\",\n",
    "    menu_items={\n",
    "        'About': all_texts.texts[\"about\"]\n",
    "    }    \n",
    ")\n",
    "\n",
    "st.markdown(\n",
    "    \"\"\"\n",
    "    <style>\n",
    "    [aria-label=\"dialog\"]{\n",
    "        width: 90vw;\n",
    "    }\n",
    "    </style>\n",
    "    \"\"\", unsafe_allow_html=True\n",
    ")\n",
    "st.title(\"🎨📝 ImaGenStories\")"
   ]
  },
  {
   "cell_type": "markdown",
   "metadata": {},
   "source": [
    "### API Key Setup"
   ]
  },
  {
   "cell_type": "code",
   "execution_count": 21,
   "metadata": {},
   "outputs": [],
   "source": [
    "### Keys ###\n",
    "try:\n",
    "    os.environ[\"GOOGLE_API_KEY\"] = st.secrets[\"GOOGLE_API_KEY\"]\n",
    "except:\n",
    "    st.error(\"Error: Secrets\")"
   ]
  },
  {
   "cell_type": "code",
   "execution_count": 22,
   "metadata": {},
   "outputs": [
    {
     "name": "stderr",
     "output_type": "stream",
     "text": [
      "2024-09-17 12:54:48.025 Thread 'MainThread': missing ScriptRunContext! This warning can be ignored when running in bare mode.\n",
      "2024-09-17 12:54:48.026 Thread 'MainThread': missing ScriptRunContext! This warning can be ignored when running in bare mode.\n",
      "2024-09-17 12:54:48.027 Thread 'MainThread': missing ScriptRunContext! This warning can be ignored when running in bare mode.\n",
      "2024-09-17 12:54:48.027 Thread 'MainThread': missing ScriptRunContext! This warning can be ignored when running in bare mode.\n",
      "2024-09-17 12:54:48.028 Thread 'MainThread': missing ScriptRunContext! This warning can be ignored when running in bare mode.\n",
      "2024-09-17 12:54:48.028 Thread 'MainThread': missing ScriptRunContext! This warning can be ignored when running in bare mode.\n",
      "2024-09-17 12:54:48.028 Thread 'MainThread': missing ScriptRunContext! This warning can be ignored when running in bare mode.\n",
      "2024-09-17 12:54:48.029 Thread 'MainThread': missing ScriptRunContext! This warning can be ignored when running in bare mode.\n"
     ]
    }
   ],
   "source": [
    "import streamlit as st\n",
    "import os\n",
    "\n",
    "# Access your actual secrets\n",
    "st.write(\"GOOGLE_API_KEY is set:\", \"GOOGLE_API_KEY\" in st.secrets)\n",
    "\n",
    "# If you need to access it as an environment variable:\n",
    "st.write(\n",
    "    \"GOOGLE_API_KEY environment variable is set:\",\n",
    "    \"GOOGLE_API_KEY\" in os.environ\n",
    ")"
   ]
  },
  {
   "cell_type": "markdown",
   "metadata": {},
   "source": [
    "### Model and Global Variable Setup"
   ]
  },
  {
   "cell_type": "code",
   "execution_count": 25,
   "metadata": {},
   "outputs": [
    {
     "name": "stderr",
     "output_type": "stream",
     "text": [
      "2024-09-17 12:55:23.447 Thread 'MainThread': missing ScriptRunContext! This warning can be ignored when running in bare mode.\n",
      "2024-09-17 12:55:23.448 Thread 'MainThread': missing ScriptRunContext! This warning can be ignored when running in bare mode.\n"
     ]
    }
   ],
   "source": [
    "### Models ###\n",
    "gemini_vision = GeminiMultiModal(model_name=\"models/gemini-pro-vision\")\n",
    "\n",
    "### Global Variables ###\n",
    "image = None\n",
    "path = None\n",
    "full_response = \"\"\n",
    "message_placeholder = st.empty()\n",
    "temp_dir = tempfile.mkdtemp()\n",
    "\n",
    "# Access the prompt_story from the all_texts module\n",
    "prompt_story = all_texts.texts[\"prompt_story\"]\n",
    "story_template = PromptTemplate(prompt_story)"
   ]
  },
  {
   "cell_type": "markdown",
   "metadata": {},
   "source": [
    "### Sidebar Configuration\n"
   ]
  },
  {
   "cell_type": "code",
   "execution_count": 26,
   "metadata": {},
   "outputs": [
    {
     "name": "stderr",
     "output_type": "stream",
     "text": [
      "2024-09-17 12:55:25.144 Thread 'MainThread': missing ScriptRunContext! This warning can be ignored when running in bare mode.\n",
      "2024-09-17 12:55:25.145 Thread 'MainThread': missing ScriptRunContext! This warning can be ignored when running in bare mode.\n",
      "2024-09-17 12:55:25.146 Thread 'MainThread': missing ScriptRunContext! This warning can be ignored when running in bare mode.\n",
      "2024-09-17 12:55:25.146 Thread 'MainThread': missing ScriptRunContext! This warning can be ignored when running in bare mode.\n",
      "2024-09-17 12:55:25.147 Thread 'MainThread': missing ScriptRunContext! This warning can be ignored when running in bare mode.\n",
      "2024-09-17 12:55:25.147 Session state does not function when running a script without `streamlit run`\n",
      "2024-09-17 12:55:25.148 Thread 'MainThread': missing ScriptRunContext! This warning can be ignored when running in bare mode.\n",
      "2024-09-17 12:55:25.148 Thread 'MainThread': missing ScriptRunContext! This warning can be ignored when running in bare mode.\n",
      "2024-09-17 12:55:25.148 Thread 'MainThread': missing ScriptRunContext! This warning can be ignored when running in bare mode.\n",
      "2024-09-17 12:55:25.149 Thread 'MainThread': missing ScriptRunContext! This warning can be ignored when running in bare mode.\n",
      "2024-09-17 12:55:25.149 Thread 'MainThread': missing ScriptRunContext! This warning can be ignored when running in bare mode.\n",
      "2024-09-17 12:55:25.149 Thread 'MainThread': missing ScriptRunContext! This warning can be ignored when running in bare mode.\n",
      "2024-09-17 12:55:25.150 Thread 'MainThread': missing ScriptRunContext! This warning can be ignored when running in bare mode.\n",
      "2024-09-17 12:55:25.150 Thread 'MainThread': missing ScriptRunContext! This warning can be ignored when running in bare mode.\n",
      "2024-09-17 12:55:25.150 Thread 'MainThread': missing ScriptRunContext! This warning can be ignored when running in bare mode.\n",
      "2024-09-17 12:55:25.151 Thread 'MainThread': missing ScriptRunContext! This warning can be ignored when running in bare mode.\n",
      "2024-09-17 12:55:25.151 Thread 'MainThread': missing ScriptRunContext! This warning can be ignored when running in bare mode.\n",
      "2024-09-17 12:55:25.151 Thread 'MainThread': missing ScriptRunContext! This warning can be ignored when running in bare mode.\n",
      "2024-09-17 12:55:25.152 Thread 'MainThread': missing ScriptRunContext! This warning can be ignored when running in bare mode.\n",
      "2024-09-17 12:55:25.152 Thread 'MainThread': missing ScriptRunContext! This warning can be ignored when running in bare mode.\n",
      "2024-09-17 12:55:25.152 Thread 'MainThread': missing ScriptRunContext! This warning can be ignored when running in bare mode.\n",
      "2024-09-17 12:55:25.153 Thread 'MainThread': missing ScriptRunContext! This warning can be ignored when running in bare mode.\n",
      "2024-09-17 12:55:25.153 Thread 'MainThread': missing ScriptRunContext! This warning can be ignored when running in bare mode.\n",
      "2024-09-17 12:55:25.153 Thread 'MainThread': missing ScriptRunContext! This warning can be ignored when running in bare mode.\n",
      "2024-09-17 12:55:25.153 Thread 'MainThread': missing ScriptRunContext! This warning can be ignored when running in bare mode.\n",
      "2024-09-17 12:55:25.154 Thread 'MainThread': missing ScriptRunContext! This warning can be ignored when running in bare mode.\n",
      "2024-09-17 12:55:25.154 Thread 'MainThread': missing ScriptRunContext! This warning can be ignored when running in bare mode.\n",
      "2024-09-17 12:55:25.156 Thread 'MainThread': missing ScriptRunContext! This warning can be ignored when running in bare mode.\n",
      "2024-09-17 12:55:25.157 Thread 'MainThread': missing ScriptRunContext! This warning can be ignored when running in bare mode.\n",
      "2024-09-17 12:55:25.157 Thread 'MainThread': missing ScriptRunContext! This warning can be ignored when running in bare mode.\n"
     ]
    }
   ],
   "source": [
    "st.sidebar.title(\"Parameters\")\n",
    "with st.sidebar:\n",
    "    genre_select = st.selectbox(\n",
    "        \"Choose a genre\",\n",
    "        (\"Adventure\", \"Mystery\", \"Police\", \"Romantic\", \"Science fiction\", \"Terror\")\n",
    "    )\n",
    "    narrative_select = st.selectbox(\n",
    "        \"Choose a narrative type\",\n",
    "        (\"Descriptive\", \"Linear\", \"Nonlinear\", \"Viewpoint\")\n",
    "    )\n",
    "    language_select = st.selectbox(\n",
    "        \"Choose a language\",\n",
    "        (\"English\",\"Spanish\")\n",
    "    )\n",
    "    size_select = st.selectbox(\n",
    "        \"Size of story\",\n",
    "        (\"Short\",\"Medium\",\"Large\")\n",
    "    )\n",
    "\n",
    "    keywords = st_tags_sidebar(\n",
    "        label='Enter Keywords:',\n",
    "        text='Press enter to add more',\n",
    "        value=[],\n",
    "        suggestions=['Other'],\n",
    "        maxtags = 5,\n",
    "        key='1')"
   ]
  },
  {
   "cell_type": "markdown",
   "metadata": {},
   "source": [
    "### Main Application Layout"
   ]
  },
  {
   "cell_type": "code",
   "execution_count": 29,
   "metadata": {},
   "outputs": [
    {
     "name": "stderr",
     "output_type": "stream",
     "text": [
      "2024-09-17 12:56:54.280 Thread 'MainThread': missing ScriptRunContext! This warning can be ignored when running in bare mode.\n",
      "2024-09-17 12:56:54.282 Thread 'MainThread': missing ScriptRunContext! This warning can be ignored when running in bare mode.\n",
      "2024-09-17 12:56:54.283 Thread 'MainThread': missing ScriptRunContext! This warning can be ignored when running in bare mode.\n",
      "2024-09-17 12:56:54.285 Thread 'MainThread': missing ScriptRunContext! This warning can be ignored when running in bare mode.\n",
      "2024-09-17 12:56:54.286 Thread 'MainThread': missing ScriptRunContext! This warning can be ignored when running in bare mode.\n",
      "2024-09-17 12:56:54.286 Thread 'MainThread': missing ScriptRunContext! This warning can be ignored when running in bare mode.\n",
      "2024-09-17 12:56:54.287 Thread 'MainThread': missing ScriptRunContext! This warning can be ignored when running in bare mode.\n",
      "2024-09-17 12:56:54.287 Thread 'MainThread': missing ScriptRunContext! This warning can be ignored when running in bare mode.\n",
      "2024-09-17 12:56:54.288 Thread 'MainThread': missing ScriptRunContext! This warning can be ignored when running in bare mode.\n",
      "2024-09-17 12:56:54.288 Thread 'MainThread': missing ScriptRunContext! This warning can be ignored when running in bare mode.\n",
      "2024-09-17 12:56:54.289 Thread 'MainThread': missing ScriptRunContext! This warning can be ignored when running in bare mode.\n",
      "2024-09-17 12:56:54.289 Thread 'MainThread': missing ScriptRunContext! This warning can be ignored when running in bare mode.\n",
      "2024-09-17 12:56:54.289 Thread 'MainThread': missing ScriptRunContext! This warning can be ignored when running in bare mode.\n",
      "2024-09-17 12:56:54.289 Thread 'MainThread': missing ScriptRunContext! This warning can be ignored when running in bare mode.\n",
      "2024-09-17 12:56:54.290 Thread 'MainThread': missing ScriptRunContext! This warning can be ignored when running in bare mode.\n",
      "2024-09-17 12:56:54.290 Thread 'MainThread': missing ScriptRunContext! This warning can be ignored when running in bare mode.\n",
      "2024-09-17 12:56:54.290 Thread 'MainThread': missing ScriptRunContext! This warning can be ignored when running in bare mode.\n",
      "2024-09-17 12:56:54.291 Thread 'MainThread': missing ScriptRunContext! This warning can be ignored when running in bare mode.\n",
      "2024-09-17 12:56:54.291 Thread 'MainThread': missing ScriptRunContext! This warning can be ignored when running in bare mode.\n",
      "2024-09-17 12:56:54.291 Thread 'MainThread': missing ScriptRunContext! This warning can be ignored when running in bare mode.\n"
     ]
    }
   ],
   "source": [
    "tab_main, tab_info = st.tabs([\"Main\", \"Info\"])\n",
    "\n",
    "with tab_main:\n",
    "    left_column, right_column = st.columns(2)\n",
    "    with left_column:\n",
    "        uploaded_files = st.file_uploader(\"Choose a image file\", type = ([\"jpg\", \"jpeg\", \"png\"]),accept_multiple_files=True)\n",
    "        for uploaded_file in uploaded_files:\n",
    "            if uploaded_file is not None:\n",
    "                image = Image.open(uploaded_file)\n",
    "                with st.spinner('Loading...'):\n",
    "                    st.image(image)\n",
    "                path = os.path.join(temp_dir, uploaded_file.name)\n",
    "                with open(path, \"wb\") as f:\n",
    "                    f.write(uploaded_file.getvalue())\n",
    "\n",
    "    with right_column:\n",
    "        st.write(\"Upload some image, and press the button\")\n",
    "        if st.button('Generate a story!'):\n",
    "            if path is None:\n",
    "                st.warning(\"Error: Path not found\")\n",
    "            else:\n",
    "                image_documents = [ImageDocument(image_path=os.path.join(temp_dir, name)) for name in os.listdir(temp_dir) if os.path.isfile(os.path.join(temp_dir, name))]\n",
    "                message_placeholder = st.empty()\n",
    "                full_response = \"\"\n",
    "                prompt_final = story_template.format(genre=genre_select,narrative=narrative_select,language=language_select,size=size_select,tags=keywords)\n",
    "                try:\n",
    "                    with st.spinner('Loading...'):\n",
    "                        for response in gemini_vision.stream_complete(prompt = prompt_final, image_documents=image_documents):\n",
    "                            full_response += (response.text or \"\")\n",
    "                            message_placeholder.markdown(full_response + \"▌\")\n",
    "                        message_placeholder.markdown(full_response)\n",
    "                        st.session_state.full_response = full_response\n",
    "                except Exception as e:\n",
    "                    st.error(e)\n",
    "                \n",
    "                # HTML component for copy button\n",
    "                components.html('''\n",
    "    <button class=\"button-13\" onclick=\"copyContent()\">📝 Copy</button>\n",
    "    <script>\n",
    "    function copyContent() {\n",
    "        const content = document.querySelector('.stMarkdown').innerText;\n",
    "        navigator.clipboard.writeText(content)\n",
    "            .then(() => {\n",
    "                console.log('Content copied to clipboard');\n",
    "                // Optionally, you can show a success message to the user\n",
    "            })\n",
    "            .catch(err => {\n",
    "                console.error('Failed to copy: ', err);\n",
    "                // Optionally, you can show an error message to the user\n",
    "            });\n",
    "    }\n",
    "    </script>\n",
    "    <style>\n",
    "    .button-13 {\n",
    "        background-color: #fff;\n",
    "        border: 1px solid #d5d9d9;\n",
    "        border-radius: 8px;\n",
    "        box-shadow: rgba(213, 217, 217, .5) 0 2px 5px 0;\n",
    "        box-sizing: border-box;\n",
    "        color: #0f1111;\n",
    "        cursor: pointer;\n",
    "        display: inline-block;\n",
    "        font-family: \"Amazon Ember\",sans-serif;\n",
    "        font-size: 13px;\n",
    "        line-height: 29px;\n",
    "        padding: 0 10px 0 11px;\n",
    "        position: relative;\n",
    "        text-align: center;\n",
    "        text-decoration: none;\n",
    "        user-select: none;\n",
    "        -webkit-user-select: none;\n",
    "        touch-action: manipulation;\n",
    "        vertical-align: middle;\n",
    "        width: 100px;\n",
    "    }\n",
    "    \n",
    "    .button-13:hover {\n",
    "        background-color: #f7fafa;\n",
    "    }\n",
    "    \n",
    "    .button-13:focus {\n",
    "        border-color: #008296;\n",
    "        box-shadow: rgba(213, 217, 217, .5) 0 2px 5px 0;\n",
    "        outline: 0;\n",
    "    }\n",
    "    </style>\n",
    "    ''')\n",
    "\n",
    "with tab_info:\n",
    "    st.markdown(all_texts.texts[\"about\"])"
   ]
  }
 ],
 "metadata": {
  "kernelspec": {
   "display_name": "thesis",
   "language": "python",
   "name": "python3"
  },
  "language_info": {
   "codemirror_mode": {
    "name": "ipython",
    "version": 3
   },
   "file_extension": ".py",
   "mimetype": "text/x-python",
   "name": "python",
   "nbconvert_exporter": "python",
   "pygments_lexer": "ipython3",
   "version": "3.11.5"
  }
 },
 "nbformat": 4,
 "nbformat_minor": 2
}
